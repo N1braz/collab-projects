{
  "nbformat": 4,
  "nbformat_minor": 0,
  "metadata": {
    "colab": {
      "provenance": [],
      "authorship_tag": "ABX9TyO4Cqyxb9pHNgjT0ylFJT6K",
      "include_colab_link": true
    },
    "kernelspec": {
      "name": "python3",
      "display_name": "Python 3"
    },
    "language_info": {
      "name": "python"
    }
  },
  "cells": [
    {
      "cell_type": "markdown",
      "metadata": {
        "id": "view-in-github",
        "colab_type": "text"
      },
      "source": [
        "<a href=\"https://colab.research.google.com/github/N1braz/numpy/blob/main/Rock_paper_scissor.ipynb\" target=\"_parent\"><img src=\"https://colab.research.google.com/assets/colab-badge.svg\" alt=\"Open In Colab\"/></a>"
      ]
    },
    {
      "cell_type": "code",
      "execution_count": null,
      "metadata": {
        "id": "p1I5cztzJvyK"
      },
      "outputs": [],
      "source": [
        "\n",
        "import random\n",
        "\n",
        "options = (\"rock\", \"paper\", \"scissors\")\n",
        "running = True\n",
        "\n",
        "while running:\n",
        "\n",
        "    player = None\n",
        "    computer = random.choice(options)\n",
        "\n",
        "    while player not in options:\n",
        "        player = input(\"Enter a choice (rock, paper, scissors): \")\n",
        "\n",
        "    print(f\"Player: {player}\")\n",
        "    print(f\"Computer: {computer}\")\n",
        "\n",
        "    if player == computer:\n",
        "        print(\"It's a tie!\")\n",
        "    elif player == \"rock\" and computer == \"scissors\":\n",
        "        print(\"You win!\")\n",
        "    elif player == \"paper\" and computer == \"rock\":\n",
        "        print(\"You win!\")\n",
        "    elif player == \"scissors\" and computer == \"paper\":\n",
        "        print(\"You win!\")\n",
        "    else:\n",
        "        print(\"You lose!\")\n",
        "\n",
        "    if not input(\"Play again? (y/n): \").lower() == \"y\":\n",
        "        running = False\n",
        "\n",
        "print(\"Thanks for playing!\")"
      ]
    }
  ]
}